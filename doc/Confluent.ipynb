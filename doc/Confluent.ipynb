{
 "cells": [
  {
   "cell_type": "markdown",
   "metadata": {
    "slideshow": {
     "slide_type": "slide"
    }
   },
   "source": [
    "# Confluent"
   ]
  },
  {
   "cell_type": "markdown",
   "metadata": {
    "slideshow": {
     "slide_type": "slide"
    }
   },
   "source": [
    "# Confluent Platform Quick Start (Docker)\n",
    "https://docs.confluent.io/current/quickstart/ce-docker-quickstart.html"
   ]
  },
  {
   "cell_type": "markdown",
   "metadata": {},
   "source": [
    "# Step1: Download and Start Confluent Platform Using Docker"
   ]
  },
  {
   "cell_type": "markdown",
   "metadata": {
    "slideshow": {
     "slide_type": "subslide"
    }
   },
   "source": [
    " ### Get the Code"
   ]
  },
  {
   "cell_type": "code",
   "execution_count": 2,
   "metadata": {
    "slideshow": {
     "slide_type": "fragment"
    }
   },
   "outputs": [
    {
     "name": "stdout",
     "output_type": "stream",
     "text": [
      "Your branch is up to date with 'origin/5.4.1-post'.\n"
     ]
    },
    {
     "name": "stderr",
     "output_type": "stream",
     "text": [
      "Cloning into 'confluent'...\n",
      "Checking out files:  13% (87/660)   \r",
      "Checking out files:  14% (93/660)   \r",
      "Checking out files:  15% (99/660)   \r",
      "Checking out files:  16% (106/660)   \r",
      "Checking out files:  17% (113/660)   \r",
      "Checking out files:  18% (119/660)   \r",
      "Checking out files:  19% (126/660)   \r",
      "Checking out files:  20% (132/660)   \r",
      "Checking out files:  20% (137/660)   \r",
      "Checking out files:  21% (139/660)   \r",
      "Checking out files:  22% (146/660)   \r",
      "Checking out files:  23% (152/660)   \r",
      "Checking out files:  24% (159/660)   \r",
      "Checking out files:  25% (165/660)   \r",
      "Checking out files:  26% (172/660)   \r",
      "Checking out files:  27% (179/660)   \r",
      "Checking out files:  28% (185/660)   \r",
      "Checking out files:  29% (192/660)   \r",
      "Checking out files:  29% (196/660)   \r",
      "Checking out files:  30% (198/660)   \r",
      "Checking out files:  31% (205/660)   \r",
      "Checking out files:  32% (212/660)   \r",
      "Checking out files:  33% (218/660)   \r",
      "Checking out files:  34% (225/660)   \r",
      "Checking out files:  35% (231/660)   \r",
      "Checking out files:  36% (238/660)   \r",
      "Checking out files:  37% (245/660)   \r",
      "Checking out files:  38% (251/660)   \r",
      "Checking out files:  38% (256/660)   \r",
      "Checking out files:  39% (258/660)   \r",
      "Checking out files:  40% (264/660)   \r",
      "Checking out files:  41% (271/660)   \r",
      "Checking out files:  42% (278/660)   \r",
      "Checking out files:  43% (284/660)   \r",
      "Checking out files:  44% (291/660)   \r",
      "Checking out files:  45% (297/660)   \r",
      "Checking out files:  46% (304/660)   \r",
      "Checking out files:  47% (311/660)   \r",
      "Checking out files:  48% (317/660)   \r",
      "Checking out files:  49% (324/660)   \r",
      "Checking out files:  50% (330/660)   \r",
      "Checking out files:  50% (331/660)   \r",
      "Checking out files:  51% (337/660)   \r",
      "Checking out files:  52% (344/660)   \r",
      "Checking out files:  53% (350/660)   \r",
      "Checking out files:  54% (357/660)   \r",
      "Checking out files:  55% (363/660)   \r",
      "Checking out files:  56% (370/660)   \r",
      "Checking out files:  57% (377/660)   \r",
      "Checking out files:  58% (383/660)   \r",
      "Checking out files:  59% (390/660)   \r",
      "Checking out files:  60% (396/660)   \r",
      "Checking out files:  61% (403/660)   \r",
      "Checking out files:  62% (410/660)   \r",
      "Checking out files:  62% (412/660)   \r",
      "Checking out files:  63% (416/660)   \r",
      "Checking out files:  64% (423/660)   \r",
      "Checking out files:  65% (429/660)   \r",
      "Checking out files:  66% (436/660)   \r",
      "Checking out files:  67% (443/660)   \r",
      "Checking out files:  68% (449/660)   \r",
      "Checking out files:  69% (456/660)   \r",
      "Checking out files:  70% (462/660)   \r",
      "Checking out files:  71% (469/660)   \r",
      "Checking out files:  72% (476/660)   \r",
      "Checking out files:  73% (482/660)   \r",
      "Checking out files:  74% (489/660)   \r",
      "Checking out files:  75% (495/660)   \r",
      "Checking out files:  75% (498/660)   \r",
      "Checking out files:  76% (502/660)   \r",
      "Checking out files:  77% (509/660)   \r",
      "Checking out files:  78% (515/660)   \r",
      "Checking out files:  79% (522/660)   \r",
      "Checking out files:  80% (528/660)   \r",
      "Checking out files:  81% (535/660)   \r",
      "Checking out files:  82% (542/660)   \r",
      "Checking out files:  83% (548/660)   \r",
      "Checking out files:  84% (555/660)   \r",
      "Checking out files:  85% (561/660)   \r",
      "Checking out files:  86% (568/660)   \r",
      "Checking out files:  87% (575/660)   \r",
      "Checking out files:  88% (581/660)   \r",
      "Checking out files:  88% (582/660)   \r",
      "Checking out files:  89% (588/660)   \r",
      "Checking out files:  90% (594/660)   \r",
      "Checking out files:  91% (601/660)   \r",
      "Checking out files:  92% (608/660)   \r",
      "Checking out files:  93% (614/660)   \r",
      "Checking out files:  94% (621/660)   \r",
      "Checking out files:  95% (627/660)   \r",
      "Checking out files:  96% (634/660)   \r",
      "Checking out files:  97% (641/660)   \r",
      "Checking out files:  98% (647/660)   \r",
      "Checking out files:  99% (654/660)   \r",
      "Checking out files:  99% (656/660)   \r",
      "Checking out files: 100% (660/660)   \r",
      "Checking out files: 100% (660/660), done.\n",
      "Already on '5.4.1-post'\n"
     ]
    }
   ],
   "source": [
    "%%bash\n",
    "cd /home/nics/Dev/tap\n",
    "git clone https://github.com/confluentinc/examples confluent\n",
    "cd confluent\n",
    "git checkout 5.4.1-post"
   ]
  },
  {
   "cell_type": "markdown",
   "metadata": {
    "slideshow": {
     "slide_type": "subslide"
    }
   },
   "source": [
    "## Build and Run"
   ]
  },
  {
   "cell_type": "code",
   "execution_count": 8,
   "metadata": {
    "slideshow": {
     "slide_type": "fragment"
    }
   },
   "outputs": [
    {
     "name": "stdout",
     "output_type": "stream",
     "text": [
      "5.4.1: Pulling from confluentinc/cp-zookeeper\n",
      "Digest: sha256:e5b1a02ce54344a6285ae606491e80e1fbc15736a25f03bfff4be22fe36e416b\n",
      "Status: Downloaded newer image for confluentinc/cp-zookeeper:5.4.1\n",
      "5.4.1: Pulling from confluentinc/cp-server\n",
      "Digest: sha256:d9c2d5465b6682547ce8279241a9a4f76ba7baa0ef6138cf5d3f2607fcfd447b\n",
      "Status: Downloaded newer image for confluentinc/cp-server:5.4.1\n",
      "5.4.1: Pulling from confluentinc/cp-schema-registry\n",
      "Digest: sha256:6b90f98e100bce91de5dda724394622559656e31e696bc274c6e79f91558f809\n",
      "Status: Downloaded newer image for confluentinc/cp-schema-registry:5.4.1\n",
      "0.2.0-5.4.0: Pulling from cnfldemos/cp-server-connect-datagen\n",
      "Digest: sha256:d79e6543223fb7c353ecb24705aa85a2736659a78b349ac3e57dc41add92b96e\n",
      "Status: Downloaded newer image for cnfldemos/cp-server-connect-datagen:0.2.0-5.4.0\n",
      "5.4.1: Pulling from confluentinc/cp-ksql-server\n",
      "Digest: sha256:8f8592bd82b9f79280b8a553b4b4d71e9690bd881b1e33a4db201f505359e9f5\n",
      "Status: Downloaded newer image for confluentinc/cp-ksql-server:5.4.1\n",
      "5.4.1: Pulling from confluentinc/cp-enterprise-control-center\n",
      "Digest: sha256:99c91aeb46b7fff14ef0a088f18d4328b82a41ecdb2a32008957590968b734c2\n",
      "Status: Downloaded newer image for confluentinc/cp-enterprise-control-center:5.4.1\n",
      "5.4.1: Pulling from confluentinc/cp-ksql-cli\n",
      "Digest: sha256:204e8dd6df7bef6710718f56e066001e10871176e740ae1b59828f7cde23fccb\n",
      "Status: Downloaded newer image for confluentinc/cp-ksql-cli:5.4.1\n",
      "5.4.1: Pulling from confluentinc/ksql-examples\n",
      "Digest: sha256:6307ce5e21c85bc1c3533b1a800d7032155d9e8b4b7556fcaf4d5e3bd552c3d5\n",
      "Status: Downloaded newer image for confluentinc/ksql-examples:5.4.1\n",
      "5.4.1: Pulling from confluentinc/cp-kafka-rest\n",
      "Digest: sha256:c69bf27f7a05b542255ffe75bbb6640152178945ad19f64b2ee7a4ec436754d0\n",
      "Status: Downloaded newer image for confluentinc/cp-kafka-rest:5.4.1\n"
     ]
    },
    {
     "name": "stderr",
     "output_type": "stream",
     "text": [
      "Creating network \"cp-all-in-one_default\" with the default driver\n",
      "Pulling zookeeper (confluentinc/cp-zookeeper:5.4.1)...\n",
      "Pulling broker (confluentinc/cp-server:5.4.1)...\n",
      "Pulling schema-registry (confluentinc/cp-schema-registry:5.4.1)...\n",
      "Pulling connect (cnfldemos/cp-server-connect-datagen:0.2.0-5.4.0)...\n",
      "Pulling ksql-server (confluentinc/cp-ksql-server:5.4.1)...\n",
      "Pulling control-center (confluentinc/cp-enterprise-control-center:5.4.1)...\n",
      "Pulling ksql-cli (confluentinc/cp-ksql-cli:5.4.1)...\n",
      "Pulling ksql-datagen (confluentinc/ksql-examples:5.4.1)...\n",
      "Pulling rest-proxy (confluentinc/cp-kafka-rest:5.4.1)...\n",
      "Creating zookeeper ... \r\n",
      "\u001b[1A\u001b[2K\r",
      "Creating zookeeper ... \u001b[32mdone\u001b[0m\r",
      "\u001b[1BCreating broker    ... \r\n",
      "\u001b[1A\u001b[2K\r",
      "Creating broker    ... \u001b[32mdone\u001b[0m\r",
      "\u001b[1BCreating schema-registry ... \r\n",
      "\u001b[1A\u001b[2K\r",
      "Creating schema-registry ... \u001b[32mdone\u001b[0m\r",
      "\u001b[1BCreating rest-proxy      ... \r\n",
      "Creating connect         ... \r\n",
      "\u001b[2A\u001b[2K\r",
      "Creating rest-proxy      ... \u001b[32mdone\u001b[0m\r",
      "\u001b[2B\u001b[1A\u001b[2K\r",
      "Creating connect         ... \u001b[32mdone\u001b[0m\r",
      "\u001b[1BCreating ksql-server     ... \r\n",
      "\u001b[1A\u001b[2K\r",
      "Creating ksql-server     ... \u001b[32mdone\u001b[0m\r",
      "\u001b[1BCreating ksql-cli        ... \r\n",
      "Creating control-center  ... \r\n",
      "Creating ksql-datagen    ... \r\n",
      "\u001b[2A\u001b[2K\r",
      "Creating control-center  ... \u001b[32mdone\u001b[0m\r",
      "\u001b[2B\u001b[1A\u001b[2K\r",
      "Creating ksql-datagen    ... \u001b[32mdone\u001b[0m\r",
      "\u001b[1B\u001b[3A\u001b[2K\r",
      "Creating ksql-cli        ... \u001b[32mdone\u001b[0m\r",
      "\u001b[3B"
     ]
    }
   ],
   "source": [
    "%%bash\n",
    "cd /home/nics/Dev/tap/confluent/cp-all-in-one/\n",
    "docker-compose up -d --build"
   ]
  },
  {
   "cell_type": "markdown",
   "metadata": {
    "slideshow": {
     "slide_type": "subslide"
    }
   },
   "source": [
    "## Check "
   ]
  },
  {
   "cell_type": "code",
   "execution_count": 10,
   "metadata": {
    "slideshow": {
     "slide_type": "fragment"
    }
   },
   "outputs": [
    {
     "name": "stdout",
     "output_type": "stream",
     "text": [
      "     Name                    Command                  State                         Ports                   \n",
      "------------------------------------------------------------------------------------------------------------\n",
      "broker            /etc/confluent/docker/run        Up             0.0.0.0:9092->9092/tcp                    \n",
      "connect           /etc/confluent/docker/run        Up             0.0.0.0:8083->8083/tcp, 9092/tcp          \n",
      "control-center    /etc/confluent/docker/run        Up             0.0.0.0:9021->9021/tcp                    \n",
      "ksql-cli          /bin/sh                          Up                                                       \n",
      "ksql-datagen      bash -c echo Waiting for K ...   Up                                                       \n",
      "ksql-server       /etc/confluent/docker/run        Up (healthy)   0.0.0.0:8088->8088/tcp                    \n",
      "rest-proxy        /etc/confluent/docker/run        Up             0.0.0.0:8082->8082/tcp                    \n",
      "schema-registry   /etc/confluent/docker/run        Up             0.0.0.0:8081->8081/tcp                    \n",
      "zookeeper         /etc/confluent/docker/run        Up             0.0.0.0:2181->2181/tcp, 2888/tcp, 3888/tcp\n"
     ]
    }
   ],
   "source": [
    "%%bash\n",
    "cd /home/nics/Dev/tap/confluent/cp-all-in-one/\n",
    "docker-compose ps"
   ]
  },
  {
   "cell_type": "markdown",
   "metadata": {
    "slideshow": {
     "slide_type": "slide"
    }
   },
   "source": [
    "# Control Center"
   ]
  },
  {
   "cell_type": "markdown",
   "metadata": {
    "slideshow": {
     "slide_type": "subslide"
    }
   },
   "source": [
    "http://localhost:9021/clusters\n",
    "\n",
    "![](../images/confluent-cc.png)\n",
    "        "
   ]
  },
  {
   "cell_type": "markdown",
   "metadata": {},
   "source": [
    "# "
   ]
  },
  {
   "cell_type": "markdown",
   "metadata": {
    "slideshow": {
     "slide_type": "slide"
    }
   },
   "source": [
    "# KSQL"
   ]
  },
  {
   "cell_type": "markdown",
   "metadata": {
    "cell_style": "split",
    "slideshow": {
     "slide_type": "slide"
    }
   },
   "source": [
    "Confluent KSQL is the streaming SQL engine that enables real-time data processing against Apache Kafka®. \n",
    "\n",
    "It provides an easy-to-use, yet powerful interactive SQL interface for stream processing on Kafka, without the need to write code in a programming language such as Java or Python. \n",
    "\n",
    "KSQL is scalable, elastic, fault-tolerant, and it supports a wide range of streaming operations, including data filtering, transformations, aggregations, joins, windowing, and sessionization."
   ]
  },
  {
   "cell_type": "markdown",
   "metadata": {
    "cell_style": "split",
    "slideshow": {
     "slide_type": "fragment"
    }
   },
   "source": [
    "![](https://cdn.confluent.io/wp-content/uploads/rocket-boosters.png)"
   ]
  },
  {
   "cell_type": "markdown",
   "metadata": {
    "slideshow": {
     "slide_type": "subslide"
    }
   },
   "source": [
    "# How does KSQL compare to Apache Kafka’s Streams API?\n",
    "https://docs.confluent.io/current/ksql/docs/faq.html\n",
    "\n",
    "KSQL is complementary to the Kafka Streams API, and indeed executes queries through Kafka Streams applications. They share some similarities such as having very flexible deployment models so you can integrate them easily into your existing technical and organizational processes and tooling, regardless of whether you have opted for containers, VMs, bare-metal machines, cloud services, or on-premise environments."
   ]
  },
  {
   "cell_type": "markdown",
   "metadata": {
    "slideshow": {
     "slide_type": "subslide"
    }
   },
   "source": [
    "One of the key benefits of KSQL is that it does not require the user to develop any code in Java or Scala. This enables users to leverage a SQL-like interface alone to construct streaming ETL pipelines, to respond to real-time, continuous business requests, to spot anomalies, and more. KSQL is a great fit when your processing logic can be naturally expressed through SQL."
   ]
  },
  {
   "cell_type": "markdown",
   "metadata": {
    "slideshow": {
     "slide_type": "subslide"
    }
   },
   "source": [
    "For full-fledged stream processing applications Kafka Streams remains a more appropriate choice. For example, implementing a finite state machine that is driven by streams of data is easier to achieve in a programming language such as Java or Scala than in SQL. In Kafka Streams you can also choose between the DSL (a functional programming API) and the Processor API (an imperative programming API), and even combine the two.\n",
    "\n",
    "As with many technologies, each has its sweet-spot based on technical requirements, mission-criticality, and user skillset."
   ]
  },
  {
   "cell_type": "markdown",
   "metadata": {
    "slideshow": {
     "slide_type": "slide"
    }
   },
   "source": [
    "# Demo"
   ]
  },
  {
   "cell_type": "markdown",
   "metadata": {
    "slideshow": {
     "slide_type": "subslide"
    }
   },
   "source": [
    "https://docs.confluent.io/current/ksql/docs/tutorials/clickstream-docker.html#ksql-clickstream-docker"
   ]
  },
  {
   "cell_type": "markdown",
   "metadata": {
    "slideshow": {
     "slide_type": "subslide"
    }
   },
   "source": [
    "https://github.com/confluentinc/cp-demo"
   ]
  },
  {
   "cell_type": "markdown",
   "metadata": {
    "slideshow": {
     "slide_type": "slide"
    }
   },
   "source": [
    "# Looking to the future"
   ]
  },
  {
   "cell_type": "markdown",
   "metadata": {
    "slideshow": {
     "slide_type": "subslide"
    }
   },
   "source": [
    "https://www.confluent.io/blog/intro-to-ksqldb-sql-database-streaming/\n",
    "\n",
    "https://ksqldb.io/"
   ]
  }
 ],
 "metadata": {
  "celltoolbar": "Slideshow",
  "kernelspec": {
   "display_name": "Python 3",
   "language": "python",
   "name": "python3"
  },
  "language_info": {
   "codemirror_mode": {
    "name": "ipython",
    "version": 3
   },
   "file_extension": ".py",
   "mimetype": "text/x-python",
   "name": "python",
   "nbconvert_exporter": "python",
   "pygments_lexer": "ipython3",
   "version": "3.7.6"
  },
  "rise": {
   "scroll": "true",
   "theme": "sky"
  }
 },
 "nbformat": 4,
 "nbformat_minor": 4
}
