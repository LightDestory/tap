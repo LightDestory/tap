{
 "cells": [
  {
   "cell_type": "markdown",
   "metadata": {
    "slideshow": {
     "slide_type": "slide"
    }
   },
   "source": [
    "#  Spark Kafka Sentiment Analysis"
   ]
  },
  {
   "cell_type": "markdown",
   "metadata": {
    "slideshow": {
     "slide_type": "subslide"
    }
   },
   "source": [
    "![](https://static.wixstatic.com/media/f17a52_84852646da5a4e37837a12cb610b2ad8~mv2.png/v1/fill/w_1000,h_673,al_c,usm_0.66_1.00_0.01/f17a52_84852646da5a4e37837a12cb610b2ad8~mv2.png)\n",
    "[Source](https://www.dataneb.com/post/analyzing-twitter-texts-spark-streaming-example-2)"
   ]
  },
  {
   "cell_type": "markdown",
   "metadata": {
    "slideshow": {
     "slide_type": "slide"
    }
   },
   "source": [
    "<div class=\"jumbotron\">\n",
    "    <center>\n",
    "        <b>Sentiment Analysis</b> of streaming twitter data using Flume/Kafka/Spark\n",
    "    </center>\n",
    "</div>"
   ]
  },
  {
   "cell_type": "markdown",
   "metadata": {
    "slideshow": {
     "slide_type": "slide"
    }
   },
   "source": [
    "![](https://i.imgflip.com/40j9cu.jpg)\n",
    "[NicsMeme](https://imgflip.com/i/40j9cu)"
   ]
  },
  {
   "cell_type": "markdown",
   "metadata": {
    "slideshow": {
     "slide_type": "subslide"
    }
   },
   "source": [
    "# Workflow Design"
   ]
  },
  {
   "cell_type": "markdown",
   "metadata": {
    "slideshow": {
     "slide_type": "subslide"
    }
   },
   "source": [
    "## 1) Model Building\n",
    "\n",
    "Goal: Build Spark Mlib pipeline to classify whether the tweet contains hate speech or not. "
   ]
  },
  {
   "cell_type": "markdown",
   "metadata": {
    "slideshow": {
     "slide_type": "fragment"
    }
   },
   "source": [
    "> Focus is not to build a very accurate classification model but to see how to use any model and return results on streaming data"
   ]
  },
  {
   "cell_type": "markdown",
   "metadata": {
    "slideshow": {
     "slide_type": "subslide"
    }
   },
   "source": [
    "## 2) Initialize Spark Streaming \n",
    "\n",
    "Once the model is built, we need to define the source where to get tweet:"
   ]
  },
  {
   "cell_type": "markdown",
   "metadata": {
    "slideshow": {
     "slide_type": "fragment"
    }
   },
   "source": [
    "### Kafka"
   ]
  },
  {
   "cell_type": "markdown",
   "metadata": {
    "slideshow": {
     "slide_type": "subslide"
    }
   },
   "source": [
    "## 3) Stream Data\n",
    "\n",
    "Start stream -> the Spark Streaming API will receive the data after a specified duration"
   ]
  },
  {
   "cell_type": "markdown",
   "metadata": {
    "slideshow": {
     "slide_type": "subslide"
    }
   },
   "source": [
    "## 4) Predict and Return Results\n",
    "\n",
    "Once we receive the tweet text, we pass the data into the machine learning pipeline we created and return the predicted sentiment from the model"
   ]
  },
  {
   "cell_type": "markdown",
   "metadata": {
    "slideshow": {
     "slide_type": "subslide"
    }
   },
   "source": [
    "# Import Libraries"
   ]
  },
  {
   "cell_type": "code",
   "execution_count": 30,
   "metadata": {
    "slideshow": {
     "slide_type": "subslide"
    }
   },
   "outputs": [],
   "source": [
    "import findspark\n",
    "import pyspark\n",
    "from pyspark import SparkContext\n",
    "from pyspark.sql.session import SparkSession\n",
    "from pyspark.streaming import StreamingContext\n",
    "from pyspark.streaming.kafka import KafkaUtils\n",
    "import pyspark.sql.types as tp\n",
    "from pyspark.ml import Pipeline\n",
    "from pyspark.ml.feature import StringIndexer, OneHotEncoderEstimator, VectorAssembler\n",
    "from pyspark.ml.feature import StopWordsRemover, Word2Vec, RegexTokenizer\n",
    "from pyspark.ml.classification import LogisticRegression\n",
    "from pyspark.sql import Row\n",
    "from pyspark.ml.feature import HashingTF, IDF, Tokenizer\n",
    "from pyspark.ml.classification import NaiveBayes\n",
    "from pyspark.ml.evaluation import MulticlassClassificationEvaluator"
   ]
  },
  {
   "cell_type": "markdown",
   "metadata": {
    "slideshow": {
     "slide_type": "subslide"
    }
   },
   "source": [
    "![](../images/cuofano.png)"
   ]
  },
  {
   "cell_type": "markdown",
   "metadata": {
    "slideshow": {
     "slide_type": "slide"
    }
   },
   "source": [
    "# init 1"
   ]
  },
  {
   "cell_type": "code",
   "execution_count": 2,
   "metadata": {
    "slideshow": {
     "slide_type": "subslide"
    }
   },
   "outputs": [
    {
     "data": {
      "text/html": [
       "\n",
       "            <div>\n",
       "                <p><b>SparkSession - in-memory</b></p>\n",
       "                \n",
       "        <div>\n",
       "            <p><b>SparkContext</b></p>\n",
       "\n",
       "            <p><a href=\"http://172.17.249.77:4040\">Spark UI</a></p>\n",
       "\n",
       "            <dl>\n",
       "              <dt>Version</dt>\n",
       "                <dd><code>v2.4.5</code></dd>\n",
       "              <dt>Master</dt>\n",
       "                <dd><code>local[*]</code></dd>\n",
       "              <dt>AppName</dt>\n",
       "                <dd><code>TapDataFrame</code></dd>\n",
       "            </dl>\n",
       "        </div>\n",
       "        \n",
       "            </div>\n",
       "        "
      ],
      "text/plain": [
       "<pyspark.sql.session.SparkSession at 0x7f2e303ee9d0>"
      ]
     },
     "execution_count": 2,
     "metadata": {},
     "output_type": "execute_result"
    }
   ],
   "source": [
    "findspark.find( ) \n",
    "from pyspark.sql import SparkSession\n",
    "spark = SparkSession.builder.appName(\"TapDataFrame\").getOrCreate()\n",
    "spark"
   ]
  },
  {
   "cell_type": "markdown",
   "metadata": {
    "slideshow": {
     "slide_type": "subslide"
    }
   },
   "source": [
    "![](http://thejoyofgeek.net/wp-content/uploads/2016/08/robotmask.jpg)\n",
    "[S2E4](http://thejoyofgeek.net/mr-robot-init_1-review-s2e4/)"
   ]
  },
  {
   "cell_type": "markdown",
   "metadata": {
    "slideshow": {
     "slide_type": "slide"
    }
   },
   "source": [
    " # Let's Start!"
   ]
  },
  {
   "cell_type": "markdown",
   "metadata": {
    "slideshow": {
     "slide_type": "subslide"
    }
   },
   "source": [
    "# Trainset \n",
    "***SentiTUT*** \n",
    "\n",
    "http://www.di.unito.it/~tutreeb/sentipolc-evalita16/data.html\n"
   ]
  },
  {
   "cell_type": "markdown",
   "metadata": {
    "slideshow": {
     "slide_type": "subslide"
    }
   },
   "source": [
    "![](https://www.visualist.in/assets/images/algorithms_can.jpg)\n",
    "[Textblob](https://www.visualist.in/sentiment-analysis-with-textblob/)"
   ]
  },
  {
   "cell_type": "code",
   "execution_count": 4,
   "metadata": {
    "slideshow": {
     "slide_type": "subslide"
    }
   },
   "outputs": [],
   "source": [
    "# idtwitter\tsubj\topos\toneg\tiro\tlpos\tlneg\ttop\ttext\n",
    "\n",
    "schema = tp.StructType([\n",
    "    tp.StructField(name= 'id', dataType= tp.StringType(),  nullable= True),\n",
    "    tp.StructField(name= 'subjective',       dataType= tp.IntegerType(),  nullable= True),\n",
    "    tp.StructField(name= 'positive',       dataType= tp.IntegerType(),  nullable= True),\n",
    "    tp.StructField(name= 'negative',       dataType= tp.IntegerType(),  nullable= True),\n",
    "    tp.StructField(name= 'ironic',       dataType= tp.IntegerType(),  nullable= True),\n",
    "    tp.StructField(name= 'lpositive',       dataType= tp.IntegerType(),  nullable= True),\n",
    "    tp.StructField(name= 'lnegative',       dataType= tp.IntegerType(),  nullable= True),\n",
    "    tp.StructField(name= 'top',       dataType= tp.IntegerType(),  nullable= True),\n",
    "    tp.StructField(name= 'tweet',       dataType= tp.StringType(),   nullable= True)\n",
    "])"
   ]
  },
  {
   "cell_type": "code",
   "execution_count": 5,
   "metadata": {
    "slideshow": {
     "slide_type": "subslide"
    }
   },
   "outputs": [
    {
     "name": "stdout",
     "output_type": "stream",
     "text": [
      "+------------------+----------+--------+--------+------+---------+---------+---+---------------------------------------------------------------------------------------------------------------------------------------------+\n",
      "|id                |subjective|positive|negative|ironic|lpositive|lnegative|top|tweet                                                                                                                                        |\n",
      "+------------------+----------+--------+--------+------+---------+---------+---+---------------------------------------------------------------------------------------------------------------------------------------------+\n",
      "|122449983151669248|1         |0       |1       |0     |0        |1        |1  |\"Intanto la partita per Via Nazionale si complica. #Saccomanni dice che \"\"mica tutti sono Mario #Monti\"\" http://t.co/xPtNz4X7 via @linkiesta\"|\n",
      "|125485104863780865|1         |0       |1       |0     |0        |1        |1  |False illusioni, sgradevoli realtà Mario Monti http://t.co/WOmMCITs via @AddToAny                                                            |\n",
      "|125513454315507712|1         |0       |1       |0     |0        |1        |1  |False illusioni, sgradevoli realtà #editoriale di Mario Monti sul Corriere della Sera: http://t.co/2jPxX6Jm #rassegna stampa                 |\n",
      "|125524238290522113|1         |0       |1       |0     |0        |1        |1  |Mario Monti: Berlusconi risparmi all'Italia il biasimo per aver causato un disastro #mariomontipremier                                       |\n",
      "|125527933224886272|1         |0       |1       |0     |0        |1        |1  |Mario Monti: Berlusconi risparmi all'Italia il biasimo per aver causato un disastro. I giudizi di Usa e Europa. http://t.co/evXRFF1L         |\n",
      "|125530285164072961|1         |1       |1       |0     |1        |1        |1  |False illusioni, sgradevoli realtà Analisi impeccabile di Mario Monti, e l'ennesimo grido di allarme http://t.co/T5GTgIeE via @AddThis       |\n",
      "|125533343482789889|1         |0       |1       |0     |0        |1        |1  |L'attacco di Mario Monti al governo Berlusconi -False illusioni, sgradevoli realtà Corriere della Sera: http://t.co/h9X8OeQS                 |\n",
      "|125633929217708032|1         |1       |0       |0     |1        |0        |1  |Mario Monti sul Corriere: la fotografia più illuminante sulla delicata situazione attuale http://t.co/YbuNZMOJ                               |\n",
      "|125642756147265536|1         |0       |1       |0     |0        |1        |1  |Le 5 sgradevoli realtà di cui Berlusconi dovrebbe rendersi personalmente conto http://t.co/G3u1iF9n Mario Monti non usa mezzi termini        |\n",
      "|125692702145785856|1         |0       |1       |0     |0        |1        |1  |False illusioni, sgradevoli realtà: http://t.co/4oHbFz1o L'editoriale di Mario Monti sul fallimento di Berlusconi, oggi sul Corriere         |\n",
      "|125695266887184384|1         |0       |1       |1     |0        |1        |1  |Mario Monti: c'è il rischio... di trasformare l'Italia da Stato fondatore in Stato affondatore dell'Unione europea ! http://t.co/z3S1cVFR    |\n",
      "|125838624670490624|1         |0       |1       |1     |0        |1        |1  |Ma a quanta gente DEMOCRATICA rode che la Borsa non ne voglia sapere di continuare a crollare? Povero Mario Monti sara' disperato            |\n",
      "|125949521627840512|1         |0       |1       |0     |0        |1        |1  |Mario Monti: False illusioni, sgradevoli realtà http://t.co/UrlhqFsd Dall'Italia la possibile disintegrazione dell'Unione Europea            |\n",
      "|126527896218107904|1         |0       |1       |0     |0        |1        |1  |@mauryred82 l'ho letto quell'articolo in treno sul CORRIERE DELLA SERA... parole durissime..ed e' MARIO MONTI..un moderato.. SIAM MESSI MALE |\n",
      "|127100968415395841|1         |0       |1       |0     |0        |1        |1  |Ascolti Mario Monti e ti chiedi.. Perché disperdere un capitale e continuare a farsi rappresentare da questi pezzi di merda?! #ottoemezzo    |\n",
      "|127137847491821568|1         |0       |1       |1     |1        |0        |1  |#la7 ma perche' Mario Monti non fa il premier? Che persona competente e per bene!                                                            |\n",
      "|128787344999460865|1         |0       |1       |0     |0        |1        |1  |Perché non ha senso parlare di governo Monti, Casini o Bersani http://t.co/NdAZ1HuW                                                          |\n",
      "|129143970163990528|1         |0       |1       |1     |0        |0        |1  |Mario Monti è conosciuto dal 60% degli intervistati. Che però preferiscono chiamarlo gamberi e zucchine. serena gandhi http://t.co/kNLHGrHU  |\n",
      "|130172208772419585|1         |1       |0       |0     |1        |0        |1  |@riotta sono piu' tranquillo ora :-) buona giornata. Cmq ci vorrebbe Mario Monti                                                             |\n",
      "|130592030031228929|1         |0       |1       |0     |0        |1        |1  |Mario #Monti: La lira non era una moneta strana, ma era il più' delle volte una moneta debole, perche rifletteva caratteristiche dell'Italia |\n",
      "+------------------+----------+--------+--------+------+---------+---------+---+---------------------------------------------------------------------------------------------------------------------------------------------+\n",
      "only showing top 20 rows\n",
      "\n"
     ]
    }
   ],
   "source": [
    "# read the dataset  \n",
    "training_set = spark.read.csv('../spark/dataset/training_set_sentipolc16.csv',\n",
    "                         schema=schema,\n",
    "                         header=True,\n",
    "                         sep=',')\n",
    "\n",
    "training_set.show(truncate=False)\n"
   ]
  },
  {
   "cell_type": "markdown",
   "metadata": {
    "slideshow": {
     "slide_type": "subslide"
    }
   },
   "source": [
    "![](https://www.meme-arsenal.com/memes/a05a53a96e890dee5a52d1156c01eb06.jpg)"
   ]
  },
  {
   "cell_type": "code",
   "execution_count": 6,
   "metadata": {
    "slideshow": {
     "slide_type": "subslide"
    }
   },
   "outputs": [],
   "source": [
    "# define stage 1: tokenize the tweet text    \n",
    "stage_1 = RegexTokenizer(inputCol= 'tweet' , outputCol= 'tokens', pattern= '\\\\W')"
   ]
  },
  {
   "cell_type": "code",
   "execution_count": 7,
   "metadata": {
    "slideshow": {
     "slide_type": "subslide"
    }
   },
   "outputs": [],
   "source": [
    "# define stage 2: remove the stop words\n",
    "stage_2 = StopWordsRemover(inputCol= 'tokens', outputCol= 'filtered_words')"
   ]
  },
  {
   "cell_type": "code",
   "execution_count": 8,
   "metadata": {
    "slideshow": {
     "slide_type": "subslide"
    }
   },
   "outputs": [],
   "source": [
    "# define stage 3: create a word vector of the size 100\n",
    "stage_3 = Word2Vec(inputCol= 'filtered_words', outputCol= 'vector', vectorSize= 100)"
   ]
  },
  {
   "cell_type": "code",
   "execution_count": 9,
   "metadata": {
    "slideshow": {
     "slide_type": "subslide"
    }
   },
   "outputs": [],
   "source": [
    "# define stage 4: Logistic Regression Model\n",
    "model = LogisticRegression(featuresCol= 'vector', labelCol= 'positive')"
   ]
  },
  {
   "cell_type": "markdown",
   "metadata": {
    "slideshow": {
     "slide_type": "subslide"
    }
   },
   "source": [
    "![](https://cdn-images-1.medium.com/max/1600/1*DyD3VP18IV3-lXcKMbyr5w.jpeg)"
   ]
  },
  {
   "cell_type": "code",
   "execution_count": 10,
   "metadata": {
    "slideshow": {
     "slide_type": "subslide"
    }
   },
   "outputs": [],
   "source": [
    "# setup the pipeline\n",
    "pipeline = Pipeline(stages= [stage_1, stage_2, stage_3, model])"
   ]
  },
  {
   "cell_type": "code",
   "execution_count": 11,
   "metadata": {
    "slideshow": {
     "slide_type": "subslide"
    }
   },
   "outputs": [],
   "source": [
    "# fit the pipeline model with the training data\n",
    "pipelineFit = pipeline.fit(training_set)"
   ]
  },
  {
   "cell_type": "code",
   "execution_count": 15,
   "metadata": {
    "slideshow": {
     "slide_type": "subslide"
    }
   },
   "outputs": [
    {
     "data": {
      "text/plain": [
       "<pyspark.ml.classification.BinaryLogisticRegressionTrainingSummary at 0x7f2e218f4fd0>"
      ]
     },
     "execution_count": 15,
     "metadata": {},
     "output_type": "execute_result"
    }
   ],
   "source": [
    "modelSummary=pipelineFit.stages[-1].summary\n",
    "modelSummary \n",
    "# https://spark.apache.org/docs/latest/api/java/org/apache/spark/ml/classification/LogisticRegressionSummary.html"
   ]
  },
  {
   "cell_type": "code",
   "execution_count": 16,
   "metadata": {
    "slideshow": {
     "slide_type": "subslide"
    }
   },
   "outputs": [
    {
     "data": {
      "text/plain": [
       "0.7388663967611336"
      ]
     },
     "execution_count": 16,
     "metadata": {},
     "output_type": "execute_result"
    }
   ],
   "source": [
    "modelSummary.accuracy"
   ]
  },
  {
   "cell_type": "markdown",
   "metadata": {
    "slideshow": {
     "slide_type": "subslide"
    }
   },
   "source": [
    "![](https://scontent-mxp1-1.xx.fbcdn.net/v/t1.0-9/30414523_355257768301643_808666797657030656_n.jpg?_nc_cat=104&_nc_sid=730e14&_nc_ohc=_t_RW0C5ORAAX_NKEoW&_nc_ht=scontent-mxp1-1.xx&oh=bcbf3e937974d48c17093dd8c639e130&oe=5ED9DC6A)\n",
    "[DeepLearningNewsAndMemes](https://www.facebook.com/DeepLearningNewsAndMemes/)"
   ]
  },
  {
   "cell_type": "code",
   "execution_count": 17,
   "metadata": {
    "slideshow": {
     "slide_type": "subslide"
    }
   },
   "outputs": [
    {
     "name": "stdout",
     "output_type": "stream",
     "text": [
      "+---------------------------------------------------------------------------------+\n",
      "|tweet                                                                            |\n",
      "+---------------------------------------------------------------------------------+\n",
      "|False illusioni, sgradevoli realtà Mario Monti http://t.co/WOmMCITs via @AddToAny|\n",
      "+---------------------------------------------------------------------------------+\n",
      "\n"
     ]
    }
   ],
   "source": [
    "tweetDf = spark.createDataFrame([\"False illusioni, sgradevoli realtà Mario Monti http://t.co/WOmMCITs via @AddToAny\"], tp.StringType()).toDF(\"tweet\")\n",
    "tweetDf.show(truncate=False)"
   ]
  },
  {
   "cell_type": "code",
   "execution_count": 18,
   "metadata": {
    "slideshow": {
     "slide_type": "subslide"
    }
   },
   "outputs": [
    {
     "name": "stdout",
     "output_type": "stream",
     "text": [
      "+--------------------+----------+\n",
      "|               tweet|prediction|\n",
      "+--------------------+----------+\n",
      "|False illusioni, ...|       0.0|\n",
      "+--------------------+----------+\n",
      "\n"
     ]
    }
   ],
   "source": [
    "pipelineFit.transform(tweetDf).select('tweet','prediction').show(Truncate=false)"
   ]
  },
  {
   "cell_type": "code",
   "execution_count": 19,
   "metadata": {
    "slideshow": {
     "slide_type": "subslide"
    }
   },
   "outputs": [
    {
     "name": "stdout",
     "output_type": "stream",
     "text": [
      "+----------------+\n",
      "|tweet           |\n",
      "+----------------+\n",
      "|Mario Monti bene|\n",
      "+----------------+\n",
      "\n"
     ]
    }
   ],
   "source": [
    "tweetDf = spark.createDataFrame([\"Mario Monti bene\"], tp.StringType()).toDF(\"tweet\")\n",
    "tweetDf.show(truncate=False)"
   ]
  },
  {
   "cell_type": "code",
   "execution_count": 20,
   "metadata": {
    "slideshow": {
     "slide_type": "subslide"
    }
   },
   "outputs": [
    {
     "name": "stdout",
     "output_type": "stream",
     "text": [
      "+----------------+----------+\n",
      "|           tweet|prediction|\n",
      "+----------------+----------+\n",
      "|Mario Monti bene|       1.0|\n",
      "+----------------+----------+\n",
      "\n"
     ]
    }
   ],
   "source": [
    "pipelineFit.transform(tweetDf).select('tweet','prediction').show()"
   ]
  },
  {
   "cell_type": "code",
   "execution_count": 22,
   "metadata": {
    "slideshow": {
     "slide_type": "subslide"
    }
   },
   "outputs": [],
   "source": [
    "pipelineFit.save(\"../spark/dataset/model.save\")"
   ]
  },
  {
   "cell_type": "code",
   "execution_count": 23,
   "metadata": {
    "slideshow": {
     "slide_type": "subslide"
    }
   },
   "outputs": [
    {
     "name": "stdout",
     "output_type": "stream",
     "text": [
      "+-------------------+-------------------+\n",
      "|          threshold|          F-Measure|\n",
      "+-------------------+-------------------+\n",
      "| 0.7612165443187658|0.07710171853228055|\n",
      "| 0.6502257898972215|0.11759425493716337|\n",
      "| 0.5775497755236252|0.15471534115601915|\n",
      "| 0.5327163253867352|0.18365627632687445|\n",
      "| 0.5056779832305835|0.20923579893747446|\n",
      "| 0.4804979935548759| 0.2334259626836046|\n",
      "|0.46019804391029195|0.25376012340917853|\n",
      "|0.44469700717694366| 0.2708177044261066|\n",
      "| 0.4301320873422842|0.28258488499452356|\n",
      "|0.41567152448667005|0.29384560654571323|\n",
      "| 0.4056789732083148|0.30870620881026706|\n",
      "|0.39613317325565656|0.32284263959390863|\n",
      "|0.38747512389971067|  0.333553500660502|\n",
      "| 0.3809560295459846| 0.3490322580645161|\n",
      "|0.37333830333404583| 0.3593947036569987|\n",
      "| 0.3659479673235152|0.37119113573407203|\n",
      "|0.36045581545361804| 0.3779717123081553|\n",
      "| 0.3561395538563056| 0.3858615611192931|\n",
      "|0.35047584362556866|0.39573117969426014|\n",
      "| 0.3445195120670471| 0.4063294716021475|\n",
      "+-------------------+-------------------+\n",
      "only showing top 20 rows\n",
      "\n"
     ]
    }
   ],
   "source": [
    "# Set the model threshold to maximize F-Measure\n",
    "fMeasure = modelSummary.fMeasureByThreshold\n",
    "fMeasure.show()"
   ]
  },
  {
   "cell_type": "code",
   "execution_count": 24,
   "metadata": {
    "slideshow": {
     "slide_type": "subslide"
    }
   },
   "outputs": [
    {
     "data": {
      "text/plain": [
       "0.21941143502317084"
      ]
     },
     "execution_count": 24,
     "metadata": {},
     "output_type": "execute_result"
    }
   ],
   "source": [
    "fMeasure\n",
    "maxFMeasure = fMeasure.groupBy().max('F-Measure').select('max(F-Measure)').head()\n",
    "bestThreshold = fMeasure.where(fMeasure['F-Measure'] == maxFMeasure['max(F-Measure)']) \\\n",
    "    .select('threshold').head()['threshold']\n",
    "model.setThreshold(bestThreshold)\n",
    "bestThreshold"
   ]
  },
  {
   "cell_type": "code",
   "execution_count": 25,
   "metadata": {
    "slideshow": {
     "slide_type": "subslide"
    }
   },
   "outputs": [
    {
     "data": {
      "text/plain": [
       "0.7388663967611336"
      ]
     },
     "execution_count": 25,
     "metadata": {},
     "output_type": "execute_result"
    }
   ],
   "source": [
    "modelSummary=pipelineFit.stages[-1].summary\n",
    "modelSummary.accuracy"
   ]
  },
  {
   "cell_type": "code",
   "execution_count": 26,
   "metadata": {
    "slideshow": {
     "slide_type": "subslide"
    }
   },
   "outputs": [],
   "source": [
    "# fit the pipeline model with the training data\n",
    "pipelineFit = pipeline.fit(training_set)"
   ]
  },
  {
   "cell_type": "code",
   "execution_count": 27,
   "metadata": {
    "slideshow": {
     "slide_type": "subslide"
    }
   },
   "outputs": [
    {
     "data": {
      "text/plain": [
       "0.5394062078272605"
      ]
     },
     "execution_count": 27,
     "metadata": {},
     "output_type": "execute_result"
    }
   ],
   "source": [
    "modelSummary=pipelineFit.stages[-1].summary\n",
    "modelSummary.accuracy"
   ]
  },
  {
   "cell_type": "markdown",
   "metadata": {
    "slideshow": {
     "slide_type": "subslide"
    }
   },
   "source": [
    "![](https://i.imgflip.com/40mt0s.jpg)\n",
    "[NicsMeme](https://imgflip.com/i/40mt0s)"
   ]
  },
  {
   "cell_type": "markdown",
   "metadata": {
    "slideshow": {
     "slide_type": "slide"
    }
   },
   "source": [
    "# Another Approach: Naive Bayes"
   ]
  },
  {
   "cell_type": "code",
   "execution_count": 28,
   "metadata": {
    "slideshow": {
     "slide_type": "subslide"
    }
   },
   "outputs": [],
   "source": [
    "# define stage 3: create a word vector of the size 100\n",
    "hashingTF = HashingTF(inputCol=\"filtered_words\", outputCol=\"vector\", numFeatures=20)"
   ]
  },
  {
   "cell_type": "code",
   "execution_count": 31,
   "metadata": {
    "slideshow": {
     "slide_type": "subslide"
    }
   },
   "outputs": [],
   "source": [
    "# define stage 4: Logistic Regression Model\n",
    "modelNaive =  NaiveBayes(smoothing=1.0, modelType=\"multinomial\",featuresCol= 'vector', labelCol= 'positive')"
   ]
  },
  {
   "cell_type": "code",
   "execution_count": 32,
   "metadata": {
    "slideshow": {
     "slide_type": "subslide"
    }
   },
   "outputs": [],
   "source": [
    "# setup the pipeline\n",
    "pipelineNaive = Pipeline(stages= [stage_1, stage_2, hashingTF, modelNaive])\n",
    "\n",
    "# fit the pipeline model with the training data\n",
    "pipelineNaiveFit = pipelineNaive.fit(training_set)"
   ]
  },
  {
   "cell_type": "code",
   "execution_count": 33,
   "metadata": {
    "slideshow": {
     "slide_type": "subslide"
    }
   },
   "outputs": [
    {
     "data": {
      "text/plain": [
       "PipelineModel_172ce70551b8"
      ]
     },
     "execution_count": 33,
     "metadata": {},
     "output_type": "execute_result"
    }
   ],
   "source": [
    "pipelineNaiveFit"
   ]
  },
  {
   "cell_type": "code",
   "execution_count": 34,
   "metadata": {
    "slideshow": {
     "slide_type": "subslide"
    }
   },
   "outputs": [
    {
     "name": "stdout",
     "output_type": "stream",
     "text": [
      "+------------------+----------+--------+--------+------+---------+---------+---+--------------------+--------------------+--------------------+--------------------+--------------------+--------------------+----------+\n",
      "|                id|subjective|positive|negative|ironic|lpositive|lnegative|top|               tweet|              tokens|      filtered_words|              vector|       rawPrediction|         probability|prediction|\n",
      "+------------------+----------+--------+--------+------+---------+---------+---+--------------------+--------------------+--------------------+--------------------+--------------------+--------------------+----------+\n",
      "|122449983151669248|         1|       0|       1|     0|        0|        1|  1|\"Intanto la parti...|[intanto, la, par...|[intanto, la, par...|(20,[0,1,2,3,4,5,...|[-65.171974168852...|[0.72519726437760...|       0.0|\n",
      "|125485104863780865|         1|       0|       1|     0|        0|        1|  1|False illusioni, ...|[false, illusioni...|[false, illusioni...|(20,[1,2,4,5,9,15...|[-32.130745213582...|[0.80545385914618...|       0.0|\n",
      "|125513454315507712|         1|       0|       1|     0|        0|        1|  1|False illusioni, ...|[false, illusioni...|[false, illusioni...|(20,[2,3,4,5,7,9,...|[-49.295042869965...|[0.76691121612053...|       0.0|\n",
      "|125524238290522113|         1|       0|       1|     0|        0|        1|  1|Mario Monti: Berl...|[mario, monti, be...|[mario, monti, be...|(20,[0,1,2,4,9,10...|[-38.573595345962...|[0.75847042282559...|       0.0|\n",
      "|125527933224886272|         1|       0|       1|     0|        0|        1|  1|Mario Monti: Berl...|[mario, monti, be...|[mario, monti, be...|(20,[0,1,2,4,5,7,...|[-56.835859793948...|[0.74465808584654...|       0.0|\n",
      "|125530285164072961|         1|       1|       1|     0|        1|        1|  1|False illusioni, ...|[false, illusioni...|[false, illusioni...|(20,[2,4,5,6,9,13...|[-55.432200170261...|[0.84905433947710...|       0.0|\n",
      "|125533343482789889|         1|       0|       1|     0|        0|        1|  1|L'attacco di Mari...|[l, attacco, di, ...|[l, attacco, di, ...|(20,[0,2,3,4,5,6,...|[-50.803108238685...|[0.79841860819956...|       0.0|\n",
      "|125633929217708032|         1|       1|       0|     0|        1|        0|  1|Mario Monti sul C...|[mario, monti, su...|[mario, monti, su...|(20,[2,4,5,7,8,9,...|[-43.997301550874...|[0.73662519849559...|       0.0|\n",
      "|125642756147265536|         1|       0|       1|     0|        0|        1|  1|Le 5 sgradevoli r...|[le, 5, sgradevol...|[le, 5, sgradevol...|(20,[0,2,3,4,5,7,...|[-59.951038391687...|[0.75583950533445...|       0.0|\n",
      "|125692702145785856|         1|       0|       1|     0|        0|        1|  1|False illusioni, ...|[false, illusioni...|[false, illusioni...|(20,[0,1,2,4,5,6,...|[-55.139340018599...|[0.75367535232098...|       0.0|\n",
      "|125695266887184384|         1|       0|       1|     1|        0|        1|  1|Mario Monti: c'è ...|[mario, monti, c,...|[mario, monti, c,...|(20,[0,1,2,3,5,6,...|[-59.962917715137...|[0.75331680957262...|       0.0|\n",
      "|125838624670490624|         1|       0|       1|     1|        0|        1|  1|Ma a quanta gente...|[ma, a, quanta, g...|[ma, quanta, gent...|(20,[1,2,4,5,7,9,...|[-61.038806712673...|[0.63688595940910...|       0.0|\n",
      "|125949521627840512|         1|       0|       1|     0|        0|        1|  1|Mario Monti: Fals...|[mario, monti, fa...|[mario, monti, fa...|(20,[2,3,4,5,8,9,...|[-48.106183960800...|[0.85511305359573...|       0.0|\n",
      "|126527896218107904|         1|       0|       1|     0|        0|        1|  1|@mauryred82 l'ho ...|[mauryred82, l, h...|[mauryred82, l, h...|(20,[1,2,3,6,7,8,...|[-65.673373956293...|[0.70911315031260...|       0.0|\n",
      "|127100968415395841|         1|       0|       1|     0|        0|        1|  1|Ascolti Mario Mon...|[ascolti, mario, ...|[ascolti, mario, ...|(20,[0,2,5,6,8,9,...|[-58.280784044581...|[0.68317935609717...|       0.0|\n",
      "|127137847491821568|         1|       0|       1|     1|        1|        0|  1|#la7 ma perche' M...|[la7, ma, perche,...|[la7, ma, perche,...|(20,[0,2,4,5,6,7,...|[-43.204659846055...|[0.62211144258619...|       0.0|\n",
      "|128787344999460865|         1|       0|       1|     0|        0|        1|  1|Perché non ha sen...|[perch, non, ha, ...|[perch, non, ha, ...|(20,[0,2,4,5,6,8,...|[-39.243258966416...|[0.68515627100164...|       0.0|\n",
      "|129143970163990528|         1|       0|       1|     1|        0|        0|  1|Mario Monti è con...|[mario, monti, co...|[mario, monti, co...|(20,[0,2,3,4,5,9,...|[-55.155113886945...|[0.71143620134631...|       0.0|\n",
      "|130172208772419585|         1|       1|       0|     0|        1|        0|  1|@riotta sono piu'...|[riotta, sono, pi...|[riotta, sono, pi...|(20,[2,3,4,7,8,9,...|[-35.186978359671...|[0.72163220380718...|       0.0|\n",
      "|130592030031228929|         1|       0|       1|     0|        0|        1|  1|Mario #Monti: La ...|[mario, monti, la...|[mario, monti, la...|(20,[1,2,3,4,5,7,...|[-68.711618969818...|[0.83248150640299...|       0.0|\n",
      "+------------------+----------+--------+--------+------+---------+---------+---+--------------------+--------------------+--------------------+--------------------+--------------------+--------------------+----------+\n",
      "only showing top 20 rows\n",
      "\n"
     ]
    }
   ],
   "source": [
    "# select example rows to display.\n",
    "predictions = pipelineNaiveFit.transform(training_set)\n",
    "predictions.show()"
   ]
  },
  {
   "cell_type": "code",
   "execution_count": 35,
   "metadata": {
    "slideshow": {
     "slide_type": "subslide"
    }
   },
   "outputs": [
    {
     "name": "stdout",
     "output_type": "stream",
     "text": [
      "Test set accuracy = 0.7226720647773279\n"
     ]
    }
   ],
   "source": [
    "# compute accuracy on the test set\n",
    "evaluator = MulticlassClassificationEvaluator(labelCol=\"positive\", predictionCol=\"prediction\",\n",
    "                                              metricName=\"accuracy\")\n",
    "accuracy = evaluator.evaluate(predictions)\n",
    "print(\"Test set accuracy = \" + str(accuracy))"
   ]
  },
  {
   "cell_type": "code",
   "execution_count": 36,
   "metadata": {},
   "outputs": [],
   "source": [
    "spark.stop()"
   ]
  },
  {
   "cell_type": "markdown",
   "metadata": {
    "slideshow": {
     "slide_type": "subslide"
    }
   },
   "source": [
    "# Put all toghether "
   ]
  },
  {
   "cell_type": "markdown",
   "metadata": {
    "slideshow": {
     "slide_type": "subslide"
    }
   },
   "source": [
    "```bash\n",
    "# Start Zk\n",
    "# Start Kafka Server\n",
    "# Start Spark Ac\n",
    " ./sparkSubmitPython.sh twitter_stream_sentiment.py org.apache.spark:spark-streaming-kafka-0-8_2.11:2.4.5\n",
    " ```\n"
   ]
  },
  {
   "cell_type": "markdown",
   "metadata": {
    "slideshow": {
     "slide_type": "slide"
    }
   },
   "source": [
    "# Biblio"
   ]
  },
  {
   "cell_type": "markdown",
   "metadata": {
    "slideshow": {
     "slide_type": "fragment"
    }
   },
   "source": [
    "* https://www.analyticsvidhya.com/blog/2019/12/streaming-data-pyspark-machine-learning-model/\n",
    "* https://www.kdnuggets.com/2018/02/machine-learning-algorithm-2118.html"
   ]
  },
  {
   "cell_type": "code",
   "execution_count": null,
   "metadata": {},
   "outputs": [],
   "source": []
  }
 ],
 "metadata": {
  "celltoolbar": "Slideshow",
  "kernelspec": {
   "display_name": "Python 3",
   "language": "python",
   "name": "python3"
  },
  "language_info": {
   "codemirror_mode": {
    "name": "ipython",
    "version": 3
   },
   "file_extension": ".py",
   "mimetype": "text/x-python",
   "name": "python",
   "nbconvert_exporter": "python",
   "pygments_lexer": "ipython3",
   "version": "3.7.6"
  },
  "rise": {
   "enable_chalkboard": "true",
   "scroll": "true",
   "theme": "simple"
  }
 },
 "nbformat": 4,
 "nbformat_minor": 4
}
