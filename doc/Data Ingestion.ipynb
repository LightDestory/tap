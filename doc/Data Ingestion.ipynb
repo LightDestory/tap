{
 "cells": [
  {
   "cell_type": "markdown",
   "metadata": {
    "slideshow": {
     "slide_type": "slide"
    }
   },
   "source": [
    "# Data Ingestion"
   ]
  },
  {
   "cell_type": "markdown",
   "metadata": {
    "slideshow": {
     "slide_type": "subslide"
    }
   },
   "source": [
    "![](../images/data-ingestion.png)\n",
    "https://www.talend.com/blog/2018/09/26/building-agile-data-lakes-with-robust-ingestion-and-transformation-frameworks-part-1/"
   ]
  },
  {
   "cell_type": "markdown",
   "metadata": {
    "slideshow": {
     "slide_type": "slide"
    }
   },
   "source": [
    "# Real Time Examples\n",
    "https://www.omnisci.com/demos\n",
    "\n",
    "https://www.octoboard.com/it/real-time-business-dashboard-live\n",
    "\n",
    "https://www.pubnub.com/developers/realtime-data-streams/\n"
   ]
  },
  {
   "cell_type": "markdown",
   "metadata": {
    "slideshow": {
     "slide_type": "slide"
    }
   },
   "source": [
    "# Big Data Ingestion\n",
    "https://www.xenonstack.com/blog/ingestion-processing-data-for-big-data-iot-solutions"
   ]
  },
  {
   "cell_type": "markdown",
   "metadata": {
    "slideshow": {
     "slide_type": "subslide"
    }
   },
   "source": [
    "## Big Data Ingestion involves"
   ]
  },
  {
   "cell_type": "markdown",
   "metadata": {
    "slideshow": {
     "slide_type": "subslide"
    }
   },
   "source": [
    "### connecting to various data sources"
   ]
  },
  {
   "cell_type": "markdown",
   "metadata": {
    "slideshow": {
     "slide_type": "fragment"
    }
   },
   "source": [
    "![](../images/griffinfirehose.gif)"
   ]
  },
  {
   "cell_type": "markdown",
   "metadata": {
    "slideshow": {
     "slide_type": "subslide"
    }
   },
   "source": [
    "### extracting the data"
   ]
  },
  {
   "cell_type": "markdown",
   "metadata": {
    "slideshow": {
     "slide_type": "fragment"
    }
   },
   "source": [
    "![](../images/sevendrawfs.png)"
   ]
  },
  {
   "cell_type": "markdown",
   "metadata": {
    "slideshow": {
     "slide_type": "subslide"
    }
   },
   "source": [
    "### detecting changed data"
   ]
  },
  {
   "cell_type": "markdown",
   "metadata": {
    "slideshow": {
     "slide_type": "fragment"
    }
   },
   "source": [
    "![Scooby](../images/scooby.png)"
   ]
  },
  {
   "cell_type": "markdown",
   "metadata": {
    "slideshow": {
     "slide_type": "subslide"
    }
   },
   "source": [
    "## It's about moving data - and especially unstructured data - "
   ]
  },
  {
   "cell_type": "markdown",
   "metadata": {
    "slideshow": {
     "slide_type": "fragment"
    }
   },
   "source": [
    "![](../images/awstruck.gif)"
   ]
  },
  {
   "cell_type": "markdown",
   "metadata": {
    "slideshow": {
     "slide_type": "subslide"
    }
   },
   "source": [
    "### from where it is originated"
   ]
  },
  {
   "cell_type": "markdown",
   "metadata": {
    "slideshow": {
     "slide_type": "fragment"
    }
   },
   "source": [
    "![](../images/batcave.jpg)"
   ]
  },
  {
   "cell_type": "markdown",
   "metadata": {
    "slideshow": {
     "slide_type": "subslide"
    }
   },
   "source": [
    "### into a system where it can be stored and analyzed."
   ]
  },
  {
   "cell_type": "markdown",
   "metadata": {
    "slideshow": {
     "slide_type": "fragment"
    }
   },
   "source": [
    "![](../images/lestrange.jpg)"
   ]
  },
  {
   "cell_type": "markdown",
   "metadata": {
    "slideshow": {
     "slide_type": "subslide"
    }
   },
   "source": [
    "# Data Ingestion is the beginning of Data Pipeline where it obtains or import data for immediate use."
   ]
  },
  {
   "cell_type": "markdown",
   "metadata": {
    "slideshow": {
     "slide_type": "fragment"
    }
   },
   "source": [
    "![](../images/datapipeline.jpg)"
   ]
  },
  {
   "cell_type": "markdown",
   "metadata": {
    "slideshow": {
     "slide_type": "subslide"
    }
   },
   "source": [
    "Data can be streamed in **real time** or ingested in **batches**, \n",
    "When data is ingested in **real time** then, as soon as data arrives it is ingested immediately. "
   ]
  },
  {
   "cell_type": "markdown",
   "metadata": {
    "slideshow": {
     "slide_type": "subslide"
    }
   },
   "source": [
    "# Effective Data Ingestion process begins by "
   ]
  },
  {
   "cell_type": "markdown",
   "metadata": {
    "slideshow": {
     "slide_type": "subslide"
    }
   },
   "source": [
    "### prioritizing data sources"
   ]
  },
  {
   "cell_type": "markdown",
   "metadata": {},
   "source": [
    "![](../images/prioritize.png)"
   ]
  },
  {
   "cell_type": "markdown",
   "metadata": {
    "slideshow": {
     "slide_type": "subslide"
    }
   },
   "source": [
    "### validating individual files"
   ]
  },
  {
   "cell_type": "markdown",
   "metadata": {
    "slideshow": {
     "slide_type": "fragment"
    }
   },
   "source": [
    "![](../images/validation.png)"
   ]
  },
  {
   "cell_type": "markdown",
   "metadata": {
    "slideshow": {
     "slide_type": "subslide"
    }
   },
   "source": [
    "### routing data items to the correct destination"
   ]
  },
  {
   "cell_type": "markdown",
   "metadata": {
    "slideshow": {
     "slide_type": "fragment"
    }
   },
   "source": [
    "![](../images/vigile.png)"
   ]
  },
  {
   "cell_type": "markdown",
   "metadata": {
    "slideshow": {
     "slide_type": "subslide"
    }
   },
   "source": [
    "## Data Velocity \n",
    "Data Velocity deals with the speed at which data flows in from different sources like machines, networks, human interaction, media sites, social media. The flow of data can be massive or continuous.\n"
   ]
  },
  {
   "cell_type": "markdown",
   "metadata": {
    "slideshow": {
     "slide_type": "subslide"
    }
   },
   "source": [
    "## Data Size \n",
    "Data size implies enormous volume of data. Data is generated by different sources that may increase timely."
   ]
  },
  {
   "cell_type": "markdown",
   "metadata": {
    "slideshow": {
     "slide_type": "subslide"
    }
   },
   "source": [
    "## Data Frequency (Batch, Real-Time)\n",
    "Data can be processed in real time or batch, in real time processing as data received on same time, it further proceeds but in batch time data is stored in batches, fixed at some time interval and then further moved.\n"
   ]
  },
  {
   "cell_type": "markdown",
   "metadata": {
    "slideshow": {
     "slide_type": "subslide"
    }
   },
   "source": [
    "## Data Format (Structured, Semi-Structured, Unstructured) \n",
    "Data can be in different formats, mostly it can be structured format i.e. tabular one or unstructured format i.e. images, audios, videos or semi-structured i.e. JSON files, CSS files etc.\n"
   ]
  },
  {
   "cell_type": "markdown",
   "metadata": {
    "slideshow": {
     "slide_type": "slide"
    }
   },
   "source": [
    "# Data Ingestion Types\n"
   ]
  },
  {
   "cell_type": "markdown",
   "metadata": {
    "slideshow": {
     "slide_type": "subslide"
    }
   },
   "source": [
    "# Batch/Micro Batch"
   ]
  },
  {
   "cell_type": "markdown",
   "metadata": {
    "slideshow": {
     "slide_type": "subslide"
    }
   },
   "source": [
    "Batch Data Ingestion is about collect, upload and process data in steps."
   ]
  },
  {
   "cell_type": "markdown",
   "metadata": {
    "slideshow": {
     "slide_type": "fragment"
    }
   },
   "source": [
    "![Assembly Line](../images/assemblyline.jpg)"
   ]
  },
  {
   "cell_type": "markdown",
   "metadata": {
    "slideshow": {
     "slide_type": "subslide"
    }
   },
   "source": [
    "Data are cumulated for an amount of time (or size) and then are ready to be processed."
   ]
  },
  {
   "cell_type": "markdown",
   "metadata": {
    "slideshow": {
     "slide_type": "fragment"
    }
   },
   "source": [
    "![tip](../images/batch.png)"
   ]
  },
  {
   "cell_type": "markdown",
   "metadata": {
    "slideshow": {
     "slide_type": "subslide"
    }
   },
   "source": [
    "Can be any kind of data: log files, databases, structured or unstructured, text or binary."
   ]
  },
  {
   "cell_type": "markdown",
   "metadata": {
    "slideshow": {
     "slide_type": "fragment"
    }
   },
   "source": [
    "![Multiple](../images/multipledatasources.png)"
   ]
  },
  {
   "cell_type": "markdown",
   "metadata": {
    "slideshow": {
     "slide_type": "subslide"
    }
   },
   "source": [
    "Can be big or small."
   ]
  },
  {
   "cell_type": "markdown",
   "metadata": {
    "slideshow": {
     "slide_type": "fragment"
    }
   },
   "source": [
    "![Batch](../images/bigvssmall.jfif)"
   ]
  },
  {
   "cell_type": "markdown",
   "metadata": {
    "slideshow": {
     "slide_type": "subslide"
    }
   },
   "source": [
    "# Real Time / Streaming"
   ]
  },
  {
   "cell_type": "markdown",
   "metadata": {
    "slideshow": {
     "slide_type": "subslide"
    }
   },
   "source": [
    "Stream data ingestion (or real time) is about sending, receiving and process a continuous flow of data"
   ]
  },
  {
   "cell_type": "markdown",
   "metadata": {
    "slideshow": {
     "slide_type": "fragment"
    }
   },
   "source": [
    "![data-stream](../images/data-stream-small.jpg)"
   ]
  },
  {
   "cell_type": "markdown",
   "metadata": {
    "slideshow": {
     "slide_type": "subslide"
    }
   },
   "source": [
    "Meanwhile data are ingested they are make avaiable for (more then one) processing system"
   ]
  },
  {
   "cell_type": "markdown",
   "metadata": {
    "slideshow": {
     "slide_type": "fragment"
    }
   },
   "source": [
    "![ForbesData](../images/forbesdata.jpg)"
   ]
  },
  {
   "cell_type": "markdown",
   "metadata": {
    "slideshow": {
     "slide_type": "slide"
    }
   },
   "source": [
    "# Applications of Stream Processing"
   ]
  },
  {
   "cell_type": "markdown",
   "metadata": {
    "slideshow": {
     "slide_type": "subslide"
    }
   },
   "source": [
    "## complex event processing \n",
    "https://en.wikipedia.org/wiki/Complex_event_processing"
   ]
  },
  {
   "cell_type": "markdown",
   "metadata": {
    "slideshow": {
     "slide_type": "subslide"
    }
   },
   "source": [
    "Suppose we have"
   ]
  },
  {
   "cell_type": "markdown",
   "metadata": {
    "cell_style": "split",
    "slideshow": {
     "slide_type": "fragment"
    }
   },
   "source": [
    "[![](https://img.youtube.com/vi/U8DeBlXCvZo/0.jpg)](https://www.youtube.com/watch?v=U8DeBlXCvZo)"
   ]
  },
  {
   "cell_type": "markdown",
   "metadata": {
    "cell_style": "split",
    "slideshow": {
     "slide_type": "fragment"
    }
   },
   "source": [
    "![wedding](../images/wedding.jpg)"
   ]
  },
  {
   "cell_type": "markdown",
   "metadata": {
    "slideshow": {
     "slide_type": "subslide"
    }
   },
   "source": [
    "A monitoring system may for instance receive the following three from the same source:\n",
    "- church bells ringing.\n",
    "- the appearance of a man in a tuxedo with a woman in a flowing white gown.\n",
    "- rice flying through the air\n",
    "\n",
    "From these events the monitoring system may infer a complex event: a wedding"
   ]
  },
  {
   "cell_type": "markdown",
   "metadata": {
    "slideshow": {
     "slide_type": "slide"
    }
   },
   "source": [
    "# Commercial Demo"
   ]
  },
  {
   "cell_type": "markdown",
   "metadata": {
    "slideshow": {
     "slide_type": "fragment"
    }
   },
   "source": [
    "https://www.informatica.com/it/products/cloud-integration/ingestion-at-scale.html"
   ]
  },
  {
   "cell_type": "markdown",
   "metadata": {
    "slideshow": {
     "slide_type": "slide"
    }
   },
   "source": [
    "# Data Ingestion Tools\n",
    "https://www.predictiveanalyticstoday.com/data-ingestion-tools/"
   ]
  },
  {
   "cell_type": "markdown",
   "metadata": {
    "slideshow": {
     "slide_type": "subslide"
    }
   },
   "source": [
    "# Logstash\n",
    "https://www.elastic.co/guide/en/logstash/current/docker.html"
   ]
  },
  {
   "cell_type": "markdown",
   "metadata": {
    "slideshow": {
     "slide_type": "fragment"
    }
   },
   "source": [
    "https://www.elastic.co/guide/en/logstash/current/docker.html"
   ]
  },
  {
   "cell_type": "markdown",
   "metadata": {
    "slideshow": {
     "slide_type": "fragment"
    }
   },
   "source": [
    "```bash\n",
    "cd /home/nics/Dev/tap\n",
    "docker run --rm -it -v /home/nics/Dev/tap/logstash/pipeline/:/usr/share/logstash/pipeline/ docker.elastic.co/logstash/logstash:7.6.1\n",
    "```"
   ]
  },
  {
   "cell_type": "markdown",
   "metadata": {
    "slideshow": {
     "slide_type": "subslide"
    }
   },
   "source": [
    "# Apache Nifi\n",
    "https://nifi.apache.org/"
   ]
  },
  {
   "cell_type": "markdown",
   "metadata": {
    "slideshow": {
     "slide_type": "subslide"
    }
   },
   "source": [
    "# Start a Nifi machine"
   ]
  },
  {
   "cell_type": "code",
   "execution_count": 4,
   "metadata": {
    "slideshow": {
     "slide_type": "fragment"
    }
   },
   "outputs": [
    {
     "name": "stdout",
     "output_type": "stream",
     "text": [
      "30186f58d95db69599a59f360685c82e5b2de291ad44c47120ee0b98e33234e8\n"
     ]
    },
    {
     "name": "stderr",
     "output_type": "stream",
     "text": [
      "Unable to find image 'apache/nifi:latest' locally\n",
      "latest: Pulling from apache/nifi\n",
      "dc65f448a2e2: Pulling fs layer\n",
      "346ffb2b67d7: Pulling fs layer\n",
      "dea4ecac934f: Pulling fs layer\n",
      "f003f5c25f68: Pulling fs layer\n",
      "c92ee316420d: Pulling fs layer\n",
      "38a95be757d0: Pulling fs layer\n",
      "73a2bb2f2211: Pulling fs layer\n",
      "1c17bd1f299f: Pulling fs layer\n",
      "0a8db909af51: Pulling fs layer\n",
      "76422edac02c: Pulling fs layer\n",
      "0e64469d13cb: Pulling fs layer\n",
      "0f7964e0056c: Pulling fs layer\n",
      "f003f5c25f68: Waiting\n",
      "c92ee316420d: Waiting\n",
      "73a2bb2f2211: Waiting\n",
      "1c17bd1f299f: Waiting\n",
      "0a8db909af51: Waiting\n",
      "38a95be757d0: Waiting\n",
      "76422edac02c: Waiting\n",
      "0f7964e0056c: Waiting\n",
      "0e64469d13cb: Waiting\n",
      "346ffb2b67d7: Verifying Checksum\n",
      "346ffb2b67d7: Download complete\n",
      "f003f5c25f68: Verifying Checksum\n",
      "f003f5c25f68: Download complete\n",
      "c92ee316420d: Verifying Checksum\n",
      "dc65f448a2e2: Download complete\n",
      "dc65f448a2e2: Pull complete\n",
      "346ffb2b67d7: Pull complete\n",
      "dea4ecac934f: Verifying Checksum\n",
      "dea4ecac934f: Download complete\n",
      "dea4ecac934f: Pull complete\n",
      "73a2bb2f2211: Verifying Checksum\n",
      "73a2bb2f2211: Download complete\n",
      "f003f5c25f68: Pull complete\n",
      "c92ee316420d: Pull complete\n",
      "1c17bd1f299f: Verifying Checksum\n",
      "1c17bd1f299f: Download complete\n",
      "38a95be757d0: Verifying Checksum\n",
      "38a95be757d0: Download complete\n",
      "38a95be757d0: Pull complete\n",
      "73a2bb2f2211: Pull complete\n",
      "1c17bd1f299f: Pull complete\n",
      "0a8db909af51: Verifying Checksum\n",
      "0a8db909af51: Download complete\n",
      "0a8db909af51: Pull complete\n",
      "0f7964e0056c: Verifying Checksum\n",
      "0f7964e0056c: Download complete\n",
      "76422edac02c: Verifying Checksum\n",
      "76422edac02c: Download complete\n",
      "76422edac02c: Pull complete\n",
      "0e64469d13cb: Verifying Checksum\n",
      "0e64469d13cb: Download complete\n",
      "0e64469d13cb: Pull complete\n",
      "0f7964e0056c: Pull complete\n",
      "Digest: sha256:daed718bd299781117fa94c84376dacfea852af8e7debbe14189730b72696a56\n",
      "Status: Downloaded newer image for apache/nifi:latest\n"
     ]
    }
   ],
   "source": [
    "%%bash\n",
    " "
   ]
  },
  {
   "cell_type": "markdown",
   "metadata": {
    "slideshow": {
     "slide_type": "fragment"
    }
   },
   "source": [
    "http://localhost:8080/nifi"
   ]
  },
  {
   "cell_type": "markdown",
   "metadata": {
    "slideshow": {
     "slide_type": "subslide"
    }
   },
   "source": [
    "# Hello World in Nifi\n",
    "https://medium.com/@suci/hello-world-nifi-dcafcba0fdb0"
   ]
  }
 ],
 "metadata": {
  "celltoolbar": "Slideshow",
  "kernelspec": {
   "display_name": "Python 3",
   "language": "python",
   "name": "python3"
  },
  "language_info": {
   "codemirror_mode": {
    "name": "ipython",
    "version": 3
   },
   "file_extension": ".py",
   "mimetype": "text/x-python",
   "name": "python",
   "nbconvert_exporter": "python",
   "pygments_lexer": "ipython3",
   "version": "3.7.6"
  },
  "rise": {
   "scroll": "true",
   "theme": "sky"
  }
 },
 "nbformat": 4,
 "nbformat_minor": 4
}
